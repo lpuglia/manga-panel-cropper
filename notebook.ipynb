{
 "cells": [
  {
   "cell_type": "code",
   "execution_count": null,
   "id": "0be6ce9a-e975-44a1-8675-e4ec03c97175",
   "metadata": {},
   "outputs": [],
   "source": [
    "import os\n",
    "import cv2\n",
    "import requests\n",
    "from os import path\n",
    "import numpy as np\n",
    "from tqdm import tqdm\n",
    "from PIL import Image\n",
    "\n",
    "from rectangle import Rectangle\n",
    "import helpers\n",
    "from helpers import *\n",
    "\n",
    "kindle_ar = (1430,1080)"
   ]
  },
  {
   "cell_type": "code",
   "execution_count": null,
   "id": "65cef4a2-5c1c-4513-9105-32ea5537093d",
   "metadata": {
    "tags": []
   },
   "outputs": [],
   "source": [
    "if not path.exists(f'dump'):\n",
    "    os.mkdir('dump')\n",
    "\n",
    "name = 'Onepunch-Man'\n",
    "if not path.exists(f'dump/{name}'):\n",
    "    os.mkdir(f'dump/{name}')\n",
    "\n",
    "for chap in tqdm(range(1,2)):\n",
    "    for i in range(1,50):\n",
    "        # helpers.debug = True\n",
    "        # print(f'{i:03d}')\n",
    "        try:\n",
    "            raw_img = requests.get(f'https://official-ongoing-2.gamindustri.us/manga/{name}/{chap:04d}-{i:03d}.png', stream=True).raw\n",
    "            img = np.array(Image.open(raw_img))\n",
    "        except:\n",
    "            break\n",
    "\n",
    "        if not path.exists(f'dump/{name}/{chap:04d}'):\n",
    "            os.mkdir(f'dump/{name}/{chap:04d}')\n",
    "    \n",
    "        # img = cv2.imread('0012-002.png')\n",
    "        # plot_crops(img, [])\n",
    "        contours = get_contours(img)\n",
    "        crops = get_crops(img, contours)\n",
    "        crops = merge_overlapping_crops(crops)\n",
    "        crops = remove_small_crops(img, crops)\n",
    "        # debug = True\n",
    "        # plot_frames(img, crops, True)\n",
    "        edge_graph = build_crops_edge_graph(crops, img.shape)\n",
    "        # print(*[(i,j) for i,j in enumerate(edge_graph)], sep='\\n')\n",
    "        sorted_crops = sort_edge_graph(crops, edge_graph)\n",
    "        # plot_frames(img, sorted_crops,True)\n",
    "        # plot_crops(img, sorted_crops)\n",
    "        idx = 0\n",
    "        for c in sorted_crops:\n",
    "            gray_crop = cv2.cvtColor(img[c.y:c.z, c.x:c.w], cv2.COLOR_BGR2GRAY)\n",
    "            # print(gray_crop.shape[1],gray_crop.shape[0],gray_crop.shape[1]/gray_crop.shape[0])\n",
    "            if gray_crop.shape[1]/gray_crop.shape[0]>0.80 or c.area < img.shape[0]*img.shape[1]*0.5:\n",
    "                gray_crop = [np.rot90(gray_crop)]\n",
    "            else:\n",
    "                gray_crop = [np.rot90(h) for h in np.array_split(gray_crop, 2)]\n",
    "                \n",
    "            for gc in gray_crop:\n",
    "                gc = resizeAndPad(gc, kindle_ar, 255)\n",
    "                # plot_crops(gc, [])\n",
    "                # gc = np.rot90(gc,3)\n",
    "                cv2.imwrite(f\"dump/{name}/{chap:04d}/{i:03d}-{idx:03d}.jpg\", gc, [int(cv2.IMWRITE_JPEG_QUALITY), 20])\n",
    "                idx+=1\n",
    "        # print('-----------------------------------------------------')"
   ]
  },
  {
   "cell_type": "code",
   "execution_count": null,
   "id": "b65054d1-26a6-454b-8c4f-099c4c167a32",
   "metadata": {
    "scrolled": true,
    "tags": []
   },
   "outputs": [],
   "source": [
    "os.system(f\"cd dump; zip -FSr {name} {name} -x '*/\\.*'\")"
   ]
  }
 ],
 "metadata": {
  "kernelspec": {
   "display_name": "kumiko",
   "language": "python",
   "name": "kumiko"
  },
  "language_info": {
   "codemirror_mode": {
    "name": "ipython",
    "version": 3
   },
   "file_extension": ".py",
   "mimetype": "text/x-python",
   "name": "python",
   "nbconvert_exporter": "python",
   "pygments_lexer": "ipython3",
   "version": "3.8.13"
  },
  "vscode": {
   "interpreter": {
    "hash": "68a41b7eb7f97a56dfe91caaf3fc1bc75b1839613c13e501145be387320902b5"
   }
  }
 },
 "nbformat": 4,
 "nbformat_minor": 5
}
